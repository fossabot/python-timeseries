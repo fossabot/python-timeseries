{
 "cells": [
  {
   "cell_type": "code",
   "execution_count": null,
   "metadata": {},
   "outputs": [],
   "source": [
    "import os\n",
    "\n",
    "import pandas as pd\n",
    "import plotly.express as px\n",
    "import plotly.graph_objects as go\n",
    "import plotly.offline as pyo\n",
    "import pymongo\n",
    "pyo.init_notebook_mode()\n",
    "\n",
    "DEFAULT_MONGO_URI = \"mongodb://localhost:27017/\"\n",
    "DEFAULT_MONGO_DB_NAME = \"timeseries-visualization-test\"\n",
    "DEFAULT_COLLECTION_NAME = \"temperature\"\n",
    "\n",
    "mongo_uri = os.getenv(\"MONGO_URI\", DEFAULT_MONGO_URI)\n",
    "db_name = os.getenv(\"MONGO_DB_NAME\", DEFAULT_MONGO_DB_NAME)\n",
    "collection_name = os.getenv(\"MONGO_COLLECTION_NAME\", DEFAULT_COLLECTION_NAME)\n",
    "\n",
    "client = pymongo.MongoClient(mongo_uri)\n",
    "db = client[db_name]\n",
    "collection = db[collection_name]\n",
    "\n",
    "# Query the last 100 temperature data points from the collection\n",
    "temperature_data = list(collection.find().sort([(\"timestamp\", pymongo.DESCENDING)]).limit(100))\n",
    "\n",
    "# Create a DataFrame from the temperature data\n",
    "df = pd.DataFrame(temperature_data)\n",
    "\n",
    "fig = px.line(df, x=\"timestamp\", y=\"temperature\", title=\"Temperature Timeseries\")\n",
    "\n",
    "pyo.plot(fig)"
   ]
  }
 ],
 "metadata": {
  "kernelspec": {
   "display_name": "Python 3",
   "language": "python",
   "name": "python3"
  },
  "language_info": {
   "codemirror_mode": {
    "name": "ipython",
    "version": 3
   },
   "file_extension": ".py",
   "mimetype": "text/x-python",
   "name": "python",
   "nbconvert_exporter": "python",
   "pygments_lexer": "ipython3",
   "version": "3.11.1 (main, Dec 25 2022, 11:19:37) [GCC 9.4.0]"
  },
  "orig_nbformat": 4,
  "vscode": {
   "interpreter": {
    "hash": "81c7b02106326da9f5d368ba150941adaad61fa7ed8771d667c96f97de04caa5"
   }
  }
 },
 "nbformat": 4,
 "nbformat_minor": 2
}
